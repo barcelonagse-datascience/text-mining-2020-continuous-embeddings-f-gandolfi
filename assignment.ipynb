{
 "cells": [
  {
   "cell_type": "markdown",
   "metadata": {},
   "source": [
    "# Assignment 3: Word2Vec\n",
    "\n",
    "In this assignment, we will see how we can use Word2Vec (or any similar word embedding) to use information from unlabelled data to help us classify better!\n",
    "\n",
    "You will be using the sentiment data from last week, either the yelps or movies, whichever you wish. \n",
    "\n",
    "Your goal will be to simulate the following situation: you have a **small** set of labelled data and a large set of unlabelled data. Show how the two follow 2 techniques compare as the amount of labelled data increases. You should train them on the small labelled subset and test their performance on the rest of the data. \n",
    "\n",
    "In other words, train on 1k, test on 99k. Then train on 2k, test on 98k. Then train on 4k, test on 96k. Etc.\n",
    "\n",
    "1. Logistic regression trained on labelled data, documents represented as term-frequency matrix of your choice. You can learn the vocabulary from the entire dataset or only the labelled data.\n",
    "\n",
    "2. Logistic regression trained on the labelled data, documents represented as word2vec vectors where you train word2vec using the entire dataset. Play around with different settings of word2vec (training window size, K-negative, skip-gram vs BOW, training windows, etc.). Note: we didn't go over the options in detail in class, so you will need to read about them a bit!\n",
    "\n",
    "You can read about the gensime word2vec implementation [here](https://radimrehurek.com/gensim/models/word2vec.html)."
   ]
  },
  {
   "cell_type": "code",
   "execution_count": 27,
   "metadata": {},
   "outputs": [],
   "source": [
    "import matplotlib.pyplot as plt\n",
    "import re\n",
    "import spacy\n",
    "import seaborn as sns\n",
    "import pandas as pd\n",
    "import numpy as np\n",
    "from nltk.stem.snowball import SnowballStemmer\n",
    "from sklearn.feature_extraction.text import TfidfVectorizer\n",
    "from sklearn.decomposition import TruncatedSVD\n",
    "from sklearn.model_selection import train_test_split\n",
    "\n",
    "import cython\n",
    "from gensim.test.utils import common_texts, get_tmpfile\n",
    "from gensim.models import Word2Vec\n",
    "from nltk.corpus import stopwords\n",
    "from sklearn.linear_model import LogisticRegression\n",
    "plt.style.use('ggplot')\n",
    "%matplotlib inline"
   ]
  },
  {
   "cell_type": "code",
   "execution_count": 18,
   "metadata": {},
   "outputs": [],
   "source": [
    "movies = pd.read_csv('sentiment/movies.csv')\n",
    "\n",
    "#there's at least one entry where the column 'positive' is coded as 'positive' and not as 'True' or 'False'\n",
    "movies.positive[movies.positive=='positive']='True'"
   ]
  },
  {
   "cell_type": "code",
   "execution_count": 19,
   "metadata": {},
   "outputs": [],
   "source": [
    "not_alphanumeric_or_space = re.compile(r'[^(\\w|\\s|\\d)]')\n",
    "nlp = spacy.load('en_core_web_sm')\n",
    "\n",
    "def preprocess(doc):\n",
    "    #remove punctuation and stopwords and lemmatize, return list of lists\n",
    "    doc = re.sub(not_alphanumeric_or_space, '', doc)\n",
    "    words = [t.lemma_.lower() for t in nlp(doc) if t.lemma_ != '-PRON-' and \n",
    "             t.lemma_ not in stopwords.words('english')]\n",
    "    return words\n",
    "\n",
    "vectorizer = TfidfVectorizer(min_df=2,\n",
    "                             max_df=.8,\n",
    "                             preprocessor=None,\n",
    "                             stop_words=None,\n",
    "                             use_idf=False,\n",
    "                             norm=False)\n",
    "\n",
    "def embed_document(doc, word_vectors):\n",
    "    doc_sum = np.zeros(word_vectors.vector_size)\n",
    "    for word in doc:\n",
    "        try:\n",
    "            doc_sum += word_vectors.get_vector(word)\n",
    "        except:\n",
    "            None\n",
    "    doc_sum /= np.linalg.norm(doc_sum)\n",
    "    return doc_sum\n",
    "\n",
    "def embed_corpus(corpus, word_vectors):\n",
    "    embedded_docs = np.empty(shape=(len(corpus), word_vectors.vector_size))\n",
    "    for idx,doc in enumerate(corpus):\n",
    "        embedded_docs[idx]=embed_document(doc, word_vectors)\n",
    "    return(embedded_docs)"
   ]
  },
  {
   "cell_type": "code",
   "execution_count": 20,
   "metadata": {
    "scrolled": true
   },
   "outputs": [],
   "source": [
    "#lemmatize and remove stop words and punctuation, get a list of lists for Word2vec. I tried lemmatizing vs \n",
    "# non lemmatizing, removing stopwords or not, but overall my model with word2vec is a lot better (an increase \n",
    "# of more than 20 precentage points in accuracy) when I both lemmatize and remove stop words \n",
    "# before trainig the embeddings\n",
    "movies_prep_words = [preprocess(doc) for doc in movies.text]\n",
    "\n",
    "#join words back into documents for the vectorizer\n",
    "movies_prep_docs = [' '.join(doc) for doc in movies_prep_words]"
   ]
  },
  {
   "cell_type": "code",
   "execution_count": 74,
   "metadata": {},
   "outputs": [],
   "source": [
    "emb_size=150"
   ]
  },
  {
   "cell_type": "code",
   "execution_count": 75,
   "metadata": {},
   "outputs": [],
   "source": [
    "#train Word2Vec\n",
    "# I played around a bit with the parameters, skip-gram was really bad in my case, with these parameters it seems to\n",
    "# work fairly well.\n",
    "model = Word2Vec(movies_prep_words, min_count=5, size=emb_size, window = 8)\n",
    "model.train(movies_prep_words, total_examples=len(movies_prep_words), epochs=10)\n",
    "word_vectors = model.wv\n",
    "del model"
   ]
  },
  {
   "cell_type": "code",
   "execution_count": 76,
   "metadata": {},
   "outputs": [],
   "source": [
    "#get embedded representation of the documents\n",
    "embedded_docs = embed_corpus(movies_prep_words, word_vectors)"
   ]
  },
  {
   "cell_type": "code",
   "execution_count": 77,
   "metadata": {},
   "outputs": [],
   "source": [
    "# define relative sizes of train dataset and classification model\n",
    "train_sizes = [.01, .02, .03, .04, .05, .07, .1, .15, .2, .3, .5, .65, .75, .9]\n",
    "model = LogisticRegression(solver = 'liblinear')"
   ]
  },
  {
   "cell_type": "code",
   "execution_count": 78,
   "metadata": {},
   "outputs": [],
   "source": [
    "accuracies_simple = np.empty(len(train_sizes))\n",
    "accuracies_embedded = np.empty(len(train_sizes))\n",
    "\n",
    "# for each train_size divide dataset in train and test (same documents in train and test for both embedded \n",
    "# and non embedded data), fit the model in the two cases and compute accuracy\n",
    "for idx,train_size in enumerate(train_sizes):\n",
    "    train_simple, test_simple, train_emb, test_emb, train_y, test_y = train_test_split(movies_prep_docs, \n",
    "                                                                                       embedded_docs, \n",
    "                                                                                       movies.positive, \n",
    "                                                                                       train_size=train_size)\n",
    "    v = vectorizer.fit_transform(train_simple)\n",
    "    v_test = vectorizer.transform(test_simple)\n",
    "    \n",
    "    model.fit(v, train_y)\n",
    "    preds = model.predict(v_test)\n",
    "    accuracy = sum(preds==test_y)/len(test_y)\n",
    "    accuracies_simple[idx]=accuracy\n",
    "\n",
    "    model.fit(train_emb, train_y)\n",
    "    preds = model.predict(test_emb)\n",
    "    accuracy = sum(preds==test_y)/len(test_y)\n",
    "    accuracies_embedded[idx]=accuracy"
   ]
  },
  {
   "cell_type": "code",
   "execution_count": 89,
   "metadata": {},
   "outputs": [
    {
     "data": {
      "image/png": "[encoded data removed]",
      "text/plain": [
       "<Figure size 720x432 with 1 Axes>"
      ]
     },
     "metadata": {
      "needs_background": "light"
     },
     "output_type": "display_data"
    }
   ],
   "source": [
    "fig, ax = plt.subplots(1, figsize=(10, 6))\n",
    "ax.set_xlabel('Train share')\n",
    "ax.set_ylabel('Test accuracy')\n",
    "ax.plot(train_sizes, accuracies_embedded, label = 'word2vec')\n",
    "ax.plot(train_sizes, accuracies_simple, label = 'term frequency')\n",
    "ax.legend(loc='lower right', prop={'size': 12})\n",
    "plt.show()"
   ]
  },
  {
   "cell_type": "markdown",
   "metadata": {},
   "source": [
    "From the plot it's quite clear that the word2vec vectors representation for greater accuracy than the tf representation when the train set is small. However, as the train size increases the two models get increasingly close. The other thing worth noticing is that the accuracy of the word2vec model is remarkably steady, changing very little with the sample size after an initial rapid growth."
   ]
  }
 ],
 "metadata": {
  "kernelspec": {
   "display_name": "Python 3",
   "language": "python",
   "name": "python3"
  },
  "language_info": {
   "codemirror_mode": {
    "name": "ipython",
    "version": 3
   },
   "file_extension": ".py",
   "mimetype": "text/x-python",
   "name": "python",
   "nbconvert_exporter": "python",
   "pygments_lexer": "ipython3",
   "version": "3.7.3"
  },
  "name": "assignment.ipynb"
 },
 "nbformat": 4,
 "nbformat_minor": 2
}
